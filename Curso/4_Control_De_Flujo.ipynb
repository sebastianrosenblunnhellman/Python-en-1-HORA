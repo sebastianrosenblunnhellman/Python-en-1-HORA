{
 "cells": [
  {
   "cell_type": "markdown",
   "metadata": {},
   "source": [
    "# Módulo 3: Estructuras de control de flujo\n",
    "\n",
    "### Las estructuras de control de flujo son esenciales en la programación para controlar el flujo de ejecución de un programa en función de ciertas condiciones. En Python, existen dos tipos de estructuras de control de flujo: las sentencias condicionales y los bucles.\n",
    "\n"
   ]
  },
  {
   "cell_type": "markdown",
   "metadata": {},
   "source": [
    "---\n"
   ]
  },
  {
   "cell_type": "markdown",
   "metadata": {},
   "source": [
    ">## Condicionales (if, elif, else)\n",
    "\n",
    "### Las sentencias condicionales permiten evaluar una expresión booleana y ejecutar un bloque de código en función del resultado de dicha evaluación. En Python, se utilizan las palabras clave if, elif y else para crear sentencias condicionales."
   ]
  },
  {
   "cell_type": "code",
   "execution_count": 1,
   "metadata": {},
   "outputs": [
    {
     "name": "stdout",
     "output_type": "stream",
     "text": [
      "Eres mayor de edad.\n"
     ]
    }
   ],
   "source": [
    "edad = 18\n",
    "\n",
    "if edad >= 18:\n",
    "    print(\"Eres mayor de edad.\")\n",
    "else:\n",
    "    print(\"Eres menor de edad.\")\n"
   ]
  },
  {
   "cell_type": "markdown",
   "metadata": {},
   "source": [
    "### En este ejemplo, se evalúa si la variable 'edad' es mayor o igual a 18. Si la condición es verdadera, se imprime \"Eres mayor de edad.\" Si es falsa, se imprime \"Eres menor de edad.\" La sentencia elif permite agregar múltiples condiciones a una sentencia if."
   ]
  },
  {
   "cell_type": "code",
   "execution_count": 2,
   "metadata": {},
   "outputs": [
    {
     "name": "stdout",
     "output_type": "stream",
     "text": [
      "Notable.\n"
     ]
    }
   ],
   "source": [
    "nota = 75\n",
    "\n",
    "if nota >= 90:\n",
    "    print(\"Sobresaliente.\")\n",
    "elif nota >= 75:\n",
    "    print(\"Notable.\")\n",
    "elif nota >= 60:\n",
    "    print(\"Aprobado.\")\n",
    "else:\n",
    "    print(\"Suspenso.\")\n"
   ]
  },
  {
   "cell_type": "markdown",
   "metadata": {},
   "source": [
    "### En este caso, se evaluarán las expresiones booleanas en orden. Si alguna de ellas es verdadera, se ejecutará el bloque de código correspondiente y se saldrá de la sentencia condicional. Si ninguna de ellas es verdadera, se ejecutará el bloque de código del else (si lo hubiera)."
   ]
  },
  {
   "cell_type": "markdown",
   "metadata": {},
   "source": [
    "---"
   ]
  },
  {
   "cell_type": "markdown",
   "metadata": {},
   "source": [
    ">## Bucles (LOOPS)\n",
    "\n",
    "### Los bucles permiten ejecutar un bloque de código de manera repetida mientras se cumpla una condición determinada. En Python, existen dos tipos de bucles: for y while.\n"
   ]
  },
  {
   "cell_type": "markdown",
   "metadata": {},
   "source": [
    ">## Blucle **For**\n",
    "\n",
    "### La sentencia for permite iterar sobre una secuencia de elementos (lista, tupla, cadena de texto, etc.) y ejecutar un bloque de código para cada uno de ellos."
   ]
  },
  {
   "cell_type": "code",
   "execution_count": null,
   "metadata": {},
   "outputs": [],
   "source": [
    "lista_nombres = [\"Alice\", \"Bob\", \"Charlie\"]\n",
    "\n",
    "for nombre in lista_nombres:\n",
    "    print(\"Hola, \" + nombre + \".\")\n"
   ]
  },
  {
   "cell_type": "markdown",
   "metadata": {},
   "source": [
    "### En cada iteración del bucle, la variable 'nombre' tomará el valor del siguiente elemento de la secuencia 'lista_nombres'. Cuando se agote la secuencia, el bucle finalizará.\n",
    "\n"
   ]
  },
  {
   "cell_type": "markdown",
   "metadata": {},
   "source": [
    "---"
   ]
  },
  {
   "cell_type": "markdown",
   "metadata": {},
   "source": [
    ">## Buble While\n",
    "\n",
    "### La sentencia while permite ejecutar un bloque de código mientras se cumpla una condición determinada."
   ]
  },
  {
   "cell_type": "code",
   "execution_count": null,
   "metadata": {},
   "outputs": [],
   "source": [
    "contador = 0\n",
    "\n",
    "while contador < 5:\n",
    "    print(\"Contador: \" + str(contador))\n",
    "    contador += 1\n"
   ]
  },
  {
   "cell_type": "markdown",
   "metadata": {},
   "source": [
    "\n",
    "Mientras la expresión booleana 'contador < 5' sea verdadera, se ejecutará el bloque de código, imprimiendo el valor del contador e incrementándolo en 1. Cuando sea falsa, el bucle finalizará.\n",
    "Es importante tener en cuenta que, en algunos casos, es posible que el bucle no finalice nunca. Esto se conoce como un bucle infinito y debe evitarse cuidadosamente.\n",
    "Con estos ejemplos y explicaciones, podrás empezar a utilizar las estructuras de control de flujo en Python para crear programas más complejos y eficientes\n",
    "\n",
    "break, continue, pass."
   ]
  }
 ],
 "metadata": {
  "kernelspec": {
   "display_name": "Python 3",
   "language": "python",
   "name": "python3"
  },
  "language_info": {
   "codemirror_mode": {
    "name": "ipython",
    "version": 3
   },
   "file_extension": ".py",
   "mimetype": "text/x-python",
   "name": "python",
   "nbconvert_exporter": "python",
   "pygments_lexer": "ipython3",
   "version": "3.11.9"
  }
 },
 "nbformat": 4,
 "nbformat_minor": 2
}
