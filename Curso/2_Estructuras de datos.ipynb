{
 "cells": [
  {
   "cell_type": "markdown",
   "metadata": {},
   "source": [
    "# Módulo 2 Estructuras de datos en Python"
   ]
  },
  {
   "cell_type": "markdown",
   "metadata": {},
   "source": [
    " ### Las estructuras de datos son formas de organizar y almacenar datos de manera que puedan ser utilizados de manera mas eficiente."
   ]
  },
  {
   "cell_type": "markdown",
   "metadata": {},
   "source": [
    "## Tipos de estructuras de datos"
   ]
  },
  {
   "cell_type": "markdown",
   "metadata": {},
   "source": [
    ">## Listas\n",
    "\n",
    "#### Las listas son una colección ordenada y mutable de elementos. El hecho de que sean ordenados implica que los elementos tienen todos una posicion especifica que se llama indice, y se puede acceder a cada elemento de la lista mediante su índice. El hecho de que sea mutable implica que los elementos de la lista puedan cambiar, se pueden añadir o quitar elemento asi como trasformar elementos existentes.  Los elementos de una lista pueden ser de cualquier tipo de dato."
   ]
  },
  {
   "cell_type": "code",
   "execution_count": 14,
   "metadata": {},
   "outputs": [
    {
     "name": "stdout",
     "output_type": "stream",
     "text": [
      "[1, 2, 3.14, 'hola', True]\n"
     ]
    }
   ],
   "source": [
    "# Creamos nuestra primera lista\n",
    "mi_lista = [1, 2, 3.14 , \"hola\", True]\n",
    "\n",
    "print(mi_lista)"
   ]
  },
  {
   "cell_type": "markdown",
   "metadata": {},
   "source": [
    "#### Como dijimos, que las listas sean una coleccion \"ordenada\" significa que los elementos de la lista tienen un orden definido y se pueden acceder a ellos utilizando su índice. \n",
    "\n",
    "Por defecto los elementos de una lista se ordenan secuencialmente de de 0 a N elementos, es decir:\n",
    "\n",
    "0 = primer elemento, 1 = segundo elemento, 2 = tercer elemento ... y asi susecivamente. "
   ]
  },
  {
   "cell_type": "code",
   "execution_count": 15,
   "metadata": {},
   "outputs": [
    {
     "data": {
      "text/plain": [
       "1"
      ]
     },
     "execution_count": 15,
     "metadata": {},
     "output_type": "execute_result"
    }
   ],
   "source": [
    "# Accedemos a un elemento especifico a travez de su indice\n",
    "mi_lista[0] # El primer tiene el indice cero (y no uno)"
   ]
  },
  {
   "cell_type": "code",
   "execution_count": 16,
   "metadata": {},
   "outputs": [
    {
     "data": {
      "text/plain": [
       "[1, 2, 3.14]"
      ]
     },
     "execution_count": 16,
     "metadata": {},
     "output_type": "execute_result"
    }
   ],
   "source": [
    "# Tambien podemos acceder a un \"rango\" de elementos \n",
    "mi_lista[0:3] # Accedemos a un rango de elementos desde el 0 hasta el 3 (excluyendo el 3)"
   ]
  },
  {
   "cell_type": "markdown",
   "metadata": {},
   "source": [
    "#### \"Mutable\", por otro lado, significa que la lista puede ser modificada después de su creación. Esto significa que se pueden agregar, eliminar o cambiar elementos de la lista en cualquier momento"
   ]
  },
  {
   "cell_type": "code",
   "execution_count": 17,
   "metadata": {},
   "outputs": [
    {
     "data": {
      "text/plain": [
       "['elemento_modificado', 2, 3.14, 'hola', True]"
      ]
     },
     "execution_count": 17,
     "metadata": {},
     "output_type": "execute_result"
    }
   ],
   "source": [
    "# Cambiamos el elemnto en el indice 0 por el valor \"elemento_modificado\"\n",
    "mi_lista[0] = \"elemento_modificado\"\n",
    "mi_lista"
   ]
  },
  {
   "cell_type": "code",
   "execution_count": 18,
   "metadata": {},
   "outputs": [
    {
     "data": {
      "text/plain": [
       "['elemento_modificado', 3.14, 'hola', True, 'nuevo_elemento']"
      ]
     },
     "execution_count": 18,
     "metadata": {},
     "output_type": "execute_result"
    }
   ],
   "source": [
    "# Podemos agregar un elemento al final de la lista\n",
    "mi_lista.append(\"nuevo_elemento\")\n",
    "\n",
    "# Podemos eliminar un elemento especifico tambien\n",
    "mi_lista.remove(2)\n",
    "mi_lista\n",
    "\n",
    "mi_lista[0] = \"elemento_modificado\"\n",
    "\n",
    "mi_lista = mi_lista * 2"
   ]
  },
  {
   "cell_type": "markdown",
   "metadata": {},
   "source": [
    ">## Tuplas\n",
    " Las tuplas tambien son una colección ordenada, A los elementos de una tupla tambien se acceden mediante su índice. La unica diferentecia es que es una coleccion inmutable, es decir sus elementos no pueden cambiar una vez definidos. Esto es muy util para declarar una serie de valores que se van a mantener constantes a lo largo de todo el programa. Tambien sus elentos pueden ser de cualquier tipo de datos y para diferenciala de la lista se define con parentesis en vez de corchetes."
   ]
  },
  {
   "cell_type": "code",
   "execution_count": 1,
   "metadata": {},
   "outputs": [
    {
     "data": {
      "text/plain": [
       "1"
      ]
     },
     "execution_count": 1,
     "metadata": {},
     "output_type": "execute_result"
    }
   ],
   "source": [
    "# Creamos nuestra primera tupla\n",
    "mi_tupla = (1, 2, 3, \"hola\", True)\n",
    "\n",
    "# Accedemos al primer elemento \n",
    "mi_tupla[0]"
   ]
  },
  {
   "cell_type": "markdown",
   "metadata": {},
   "source": [
    ">##  Diccionarios\n",
    "\n",
    "### Los diccionarios son una colección desordenada y mutable de pares clave-valor. Los pares clave-valor son los elementos que se almacenan en un diccionario, ya no son elemntos individuales. No necesitamos un indice porque se accede al valor mediante su clave directamente."
   ]
  },
  {
   "cell_type": "code",
   "execution_count": null,
   "metadata": {},
   "outputs": [],
   "source": [
    "# Creamos nuestro primer diccionario\n",
    "mi_diccionario = {\"nombre\": \"Juan\", \n",
    "                    \"edad\": 30, \n",
    "                    \"ciudad\": \"Madrid\"}\n"
   ]
  },
  {
   "cell_type": "code",
   "execution_count": null,
   "metadata": {},
   "outputs": [],
   "source": [
    "# Observamos el resultado\n",
    "print(mi_diccionario)"
   ]
  },
  {
   "cell_type": "code",
   "execution_count": null,
   "metadata": {},
   "outputs": [],
   "source": [
    "# Accedemos a un valor especifico mediante la clave\n",
    "print(mi_diccionario[\"nombre\"])\n",
    "print(mi_diccionario[\"edad\"])"
   ]
  },
  {
   "cell_type": "code",
   "execution_count": null,
   "metadata": {},
   "outputs": [],
   "source": [
    "# Podemos crear un nuevo par clave-valor\n",
    "mi_diccionario[\"pais\"] = \"España\"\n",
    "print(mi_diccionario)\n",
    "\n",
    "# Tambien podemos modificar el nombre de la clave, con la misma logica...\n",
    "mi_diccionario[\"pais\"] = \"PAIS\"\n",
    "\n",
    "# Y podemos modificar el valor de una clave, tambien con la misma logica...\n",
    "mi_diccionario[\"nombre\"] = \"NUEVO NOMBRE\""
   ]
  },
  {
   "cell_type": "code",
   "execution_count": null,
   "metadata": {},
   "outputs": [],
   "source": [
    "# Borramos un par clave-valor con del \n",
    "del mi_diccionario[\"edad\"]\n",
    "print(mi_diccionario)"
   ]
  },
  {
   "cell_type": "markdown",
   "metadata": {},
   "source": [
    "## Metodos \n",
    "\n",
    "Habran notado que introducimos un tipo de sintaxis nueva, bueno, es hora de explicar brevemente que es un metodo.\n",
    "\n",
    "### Introduccion breve a los metodos\n",
    "Los metodos son funciones, recuerden que las funciones ejecutaban una tarea especifica sobre un objeto. La diferencia radica en que los metodos son funciones especificas de un objeto de un tipo de termiando.\n",
    "Por ejemplo, los objetos de tipo string tienen sus propios metodos. Los objetos de tipo lista tienen sus propios metodos, y asi sucesivamente. En resumen, los metodos son funciones especificas para un tipo de objeto especifico, funcionan en ese objeto y no en otro.\n",
    "\n",
    "La diferencia sintactica radica en que mientras las funciones colocaban el objeto al que se le aplicaba dicha funcion dentro de la funcion, los metodos se colocan luego del metodo al que se aplican con un punto seguido del metodo.\n",
    "\n",
    "La sintaxis basica es la siguiente:\n",
    "\n",
    "<pre><code style=\"color: yellow;\">objeto_especifico.metodo()</code></pre>\n",
    "\n",
    "\n",
    "Dentro del parentesis del metodo tambien se pueden utilizar argumentos que van a modificar la accion que se realice sobre el objeto_especifico."
   ]
  },
  {
   "cell_type": "markdown",
   "metadata": {},
   "source": [
    "Mas importante que hacer una lista interminable de todos los metodos para todos los objetos en Python es preferible que entiendan el concepto fundamental, un metodo es una funcion para una clase especifica de objetos."
   ]
  },
  {
   "cell_type": "markdown",
   "metadata": {},
   "source": [
    "## Algunos ejemplos\n"
   ]
  },
  {
   "cell_type": "markdown",
   "metadata": {},
   "source": [
    "### Métodos para Listas en Python\n",
    "append()**\n",
    "   - **Descripción:** Agrega un elemento al final de la lista.\n",
    "\n",
    "3. **insert()**\n",
    "   - **Descripción:** Inserta un elemento en una posición específica.\n",
    "\n",
    "\n",
    "4. **remove()**\n",
    "   - **Descripción:** Elimina la primera aparición de un elemento en la lista.\n",
    "\n",
    "\n",
    "6. **clear()**\n",
    "   - **Descripción:** Elimina todos los elementos de la lista.\n",
    "\n",
    "\n",
    "9. **sort()**\n",
    "   - **Descripción:** Ordena los elementos de la lista en su lugar.\n",
    "\n",
    "\n",
    "10. **reverse()**\n",
    "    - **Descripción:** Invierte el orden de los elementos de la lista.\n",
    "\n",
    "\n",
    "### Métodos para Diccionarios en Python\n",
    "\n",
    "1. **keys()**\n",
    "   - **Descripción:** Devuelve una vista de las claves del diccionario.\n",
    "\n",
    "\n",
    "2. **values()**\n",
    "   - **Descripción:** Devuelve una vista de los valores en el diccionario.\n",
    "\n",
    "\n",
    "3. **items()**\n",
    "   - **Descripción:** Devuelve una vista de los pares clave-valor en el diccionario.\n",
    "\n",
    "# Metodos para caednas de texto\n",
    "\n",
    "\n",
    "\n"
   ]
  }
 ],
 "metadata": {
  "kernelspec": {
   "display_name": "Python 3",
   "language": "python",
   "name": "python3"
  },
  "language_info": {
   "codemirror_mode": {
    "name": "ipython",
    "version": 3
   },
   "file_extension": ".py",
   "mimetype": "text/x-python",
   "name": "python",
   "nbconvert_exporter": "python",
   "pygments_lexer": "ipython3",
   "version": "3.11.9"
  }
 },
 "nbformat": 4,
 "nbformat_minor": 2
}
