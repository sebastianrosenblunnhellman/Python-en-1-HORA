{
 "cells": [
  {
   "cell_type": "markdown",
   "metadata": {},
   "source": [
    "# Módulo 5: Funciones"
   ]
  },
  {
   "cell_type": "markdown",
   "metadata": {},
   "source": [
    "\n",
    "### Llego la hora de abordar más detalladamente la pregunta: ¿Qué es una función?\n",
    "\n"
   ]
  },
  {
   "cell_type": "markdown",
   "metadata": {},
   "source": [
    "---"
   ]
  },
  {
   "cell_type": "markdown",
   "metadata": {},
   "source": [
    ">## Funciones integradas en Python (built-in)\n",
    "\n",
    "#### Python incluye varias funciones integradas que se pueden utilizar directamente en el código. En lo que va del curso ya estuvimos usando funciones integradas en python.\n",
    "\n",
    "Algunas de las funciones integradas en python que ya utilizamos:\n",
    "\n",
    "- print(): imprime un mensaje en la consola\n",
    "\n",
    "- type(): devuelve el tipo de un objeto\n",
    "\n",
    "- input(): permite al usuario ingresar datos por teclado\n",
    "\n",
    "\n"
   ]
  },
  {
   "cell_type": "markdown",
   "metadata": {},
   "source": [
    "Nuevamente, podriamos ver una lista extensa de todas las funciones integradas en python, pero es un absurdo para alguien que tiene que aprender las bases. Lo mejor es que ustedes sepan que es una funcion, sus componentes y al momento que identifiquen una funcion que no conozcan simplemente busquen su funcionamiento."
   ]
  },
  {
   "cell_type": "markdown",
   "metadata": {},
   "source": [
    "---"
   ]
  },
  {
   "cell_type": "markdown",
   "metadata": {},
   "source": [
    ">## Funciones definidas por el usuario\n",
    "\n",
    "### Además de las funciones integradas, en Python se pueden definir funciones personalizadas utilizando la palabra clave def seguido del nombre de la funcion y entre parentesiss los argumentos, luego se escriben dos puntos(:) y el bloque de codigo especifico,  seguido o no de un return para devolver valores. No se alarmen, ahora lo explicaremos en detalle."
   ]
  },
  {
   "cell_type": "markdown",
   "metadata": {},
   "source": [
    "Recuerden cómo empezamos este curso: vimos que una variable era una especie de etiqueta que guardaba a cierta información guardada en memoria. y que yo podia \"llamar\" a esa informacion a traves del nombre. Después vimos que no solo podemos guardar un valor único en una variable, sino tambien una colección de valores a traves de una estructura de datos específica. Bien, ahora, podemos imaginar una función como si fuera un bloque de código almacenado en un espacio de memoria, al que le asignamos un nombre que representa para qué sirve esa función. La diferencia es que ahora, cuando la llamemos no nos va a devolver la informacion guardada en la \"caja\" sino un bloque de codigo que va actuar sobre lo que digamos que tenga que actuar.\n",
    "\n",
    "Una función tiene los siguientes componentes clave:\n",
    "\n",
    "1. **Nombre**: Un identificador único que usamos para llamar a la función.\n",
    "\n",
    "2. **Parámetros**: Valores que se pasan a la función para que esta pueda operar sobre ellos. Los parámetros actúan como entradas para la función.(esto es lo mismo que decir argumento de la funcion, solo que cualdo construimos una funcion se lo denomina parametro)\n",
    "\n",
    "3. **Cuerpo de la función**: El bloque de código que define lo que la función hace con los parámetros que recibe. Este bloque de código realiza una serie de operaciones.\n",
    "\n",
    "4. **Valor de retorno**: El resultado que la función devuelve después de ejecutar su código. No todas las funciones deben necesariamente devolver un valor, pero si es necesario pueden hacerlo.\n",
    "\n",
    "La sintaxis genérica de una función en muchos lenguajes de programación se ve así:\n",
    "\n",
    "<pre><code style=\"color: yellow;\">def nombre_de_la_funcion(parametro1, parametro2, ...):\n",
    "    # Cuerpo de la función\n",
    "    resultado = operacion_con(parametro1, parametro2, ...)\n",
    "    return resultado</code></pre>\n",
    "\n",
    "\n",
    "\n",
    "\n",
    "- `def` es la palabra clave que indica que estamos definiendo una función.\n",
    "- `nombre_de_la_funcion` es el nombre que le damos a la función.\n",
    "- `parametro1, parametro2, ...` son los parámetros que la función recibe.\n",
    "- El **cuerpo de la función** es donde escribimos el código que realiza las operaciones.\n",
    "- `return` indica el valor que la función devolverá.\n",
    "\n",
    "Entonces, cada vez que llamamos a esa función por su nombre y le damos los parámetros específicos sobre los que trabajar, la función aplicará su bloque de código a esos parámetros y devolverá el resultado.\n",
    "\n"
   ]
  },
  {
   "cell_type": "code",
   "execution_count": null,
   "metadata": {},
   "outputs": [],
   "source": [
    "# Ejemplo de una función que saluda al usuario\n",
    "def saludar(nombre):\n",
    "    print(\"Hola, \" + nombre)\n",
    "\n",
    "# Llamamos a la función saludar()\n",
    "saludar(\"Juan\")\n",
    "\n",
    "# Ejemplo de una función que devuelve el doble de un número\n",
    "def doble(x):\n",
    "    return x * 2\n",
    "\n",
    "# Llamamos a la función doble() y mostramos el resultado\n",
    "resultado = doble(5)\n",
    "print(\"El doble de 5 es:\", resultado)\n",
    "\n",
    "# Ejemplo de una función con valores de parámetros predeterminados\n",
    "def mostrar_informacion(nombre, edad=None):\n",
    "    if edad:\n",
    "        print(\"Nombre:\", nombre)\n",
    "        print(\"Edad:\", edad)\n",
    "    else:\n",
    "        print(\"Nombre:\", nombre)\n",
    "\n",
    "# Llamamos a la función mostrar_informacion() con y sin el parámetro edad\n",
    "mostrar_informacion(\"Juan\")\n",
    "mostrar_informacion(\"Ana\", 25)\n"
   ]
  },
  {
   "cell_type": "markdown",
   "metadata": {},
   "source": [
    "---\n"
   ]
  },
  {
   "cell_type": "markdown",
   "metadata": {},
   "source": [
    "TIENEN COMO TAREA APRENDER SOBRE  **Funciones lambda**\n"
   ]
  }
 ],
 "metadata": {
  "kernelspec": {
   "display_name": "Python 3",
   "language": "python",
   "name": "python3"
  },
  "language_info": {
   "codemirror_mode": {
    "name": "ipython",
    "version": 3
   },
   "file_extension": ".py",
   "mimetype": "text/x-python",
   "name": "python",
   "nbconvert_exporter": "python",
   "pygments_lexer": "ipython3",
   "version": "3.11.9"
  }
 },
 "nbformat": 4,
 "nbformat_minor": 2
}
