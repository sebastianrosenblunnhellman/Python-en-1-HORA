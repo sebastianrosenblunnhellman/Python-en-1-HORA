{
 "cells": [
  {
   "cell_type": "markdown",
   "metadata": {},
   "source": [
    "# Módulo 1. Fundamentos Básicos de Python"
   ]
  },
  {
   "cell_type": "markdown",
   "metadata": {},
   "source": [
    ">## Variables\n",
    "\n",
    "Antes de comenzar con el curso voy a aclarar rapidamente el concepto de sintaxis. La sintaxis es la forma especfica de escribir algo con sentido en un lenguaje determinado. Dicho de forma secilla, es el conjunto de reglas del lenguaje. Las variables objetos de Python que guardan valores, y tienen su sintaxis, es decir, su forma de escribise.\n",
    "\n",
    "Mas esfecificamente: una variable es un espacio en memoria que almacenan un valor.\n",
    "\n",
    "Podemos imagina una variable como una caja que voy a utilizar para guardar informacion. La caja es mi variable, a la que yo le voy a pegar un sticker para nombrar el tipo de informacion que guardo dentro y poder acceder rapidamente a dicha informacion. El nombre que le pongo a la caja para identificarla es el nombre de la variable. Luego, lo que esta en el interior de la caja es el valor de variable.\n",
    "\n",
    "Se dice que cuando asignamos un valor a determinada varible estamos declarando una variable. \n",
    "\n",
    "La sintaxis basica para declarar una variable es escribir primero el nombre que va a llevar la variable, seguido de un signo de igual y luego el valor que queremos asignarle a la varaible.\n",
    "\n",
    "<pre><code style=\"color: yellow;\"> nombre_de_la_variable = valor </code></pre>\n",
    "\n",
    "\n"
   ]
  },
  {
   "cell_type": "code",
   "execution_count": 38,
   "metadata": {},
   "outputs": [],
   "source": [
    "# Declaración de diferentes variables\n",
    "nombre = \"Juan\" \n",
    "edad = 25       \n",
    "sueldo = 1000.50\n",
    "estudiante = True"
   ]
  },
  {
   "cell_type": "markdown",
   "metadata": {},
   "source": [
    "El codigo se ejecuta y efectivamente las variables y sus valores quedan guardadas en la memoria, para ser utilizadas. Pero para recuperar el valor guardado en la varible tengo que llamarla por su nombre."
   ]
  },
  {
   "cell_type": "code",
   "execution_count": 39,
   "metadata": {},
   "outputs": [
    {
     "data": {
      "text/plain": [
       "'Juan'"
      ]
     },
     "execution_count": 39,
     "metadata": {},
     "output_type": "execute_result"
    }
   ],
   "source": [
    "nombre"
   ]
  },
  {
   "cell_type": "markdown",
   "metadata": {},
   "source": [
    "---"
   ]
  },
  {
   "cell_type": "code",
   "execution_count": 40,
   "metadata": {},
   "outputs": [],
   "source": [
    "# ¿Que es un comentario?\n",
    "# Cuando colocalmos un \"#\" en una linea de codigo, todo lo que este despues no se procesa como codigo en esa linea.\n",
    "# Sirve para dar indicaciones al propio programador o alguien que lea el codigo."
   ]
  },
  {
   "cell_type": "markdown",
   "metadata": {},
   "source": [
    "---"
   ]
  },
  {
   "cell_type": "markdown",
   "metadata": {},
   "source": [
    "># Tipos de datos\n",
    "\n",
    "En Python, los datos que se pueden almacenar dentro de una variable pueden ser de diferentes tipos, y cada tipo de datos tiene su propio comportamiento y conjunto de operaciones posibles. Esto es porque a nivel practico, por ejemplo, tratar de elevar al cuadrado un numero que tratar de elevar al cuadrado una cadena de texto. En un tipo de dato tiene sentido la opecion, en el otro tipo de dato es un absurdo. \n",
    "\n",
    "### En Python existen varios tipos de datos, los más utilizados son:\n",
    "\n",
    "- Cadena de texto (STRING): Secuencia de caracteres que se encuentran entre comillas.\n",
    "\n",
    "- Entero (INTEGER): Número entero.\n",
    "\n",
    "- Flotante (FLOAT): Número con decimales.\n",
    "\n",
    "- Booleano (BOOLEAN): Valor lógico que puede ser o bien verdadero (True) o bien falso (False)."
   ]
  },
  {
   "cell_type": "code",
   "execution_count": 41,
   "metadata": {},
   "outputs": [],
   "source": [
    "# Ejemplos de cada tipo de dato\n",
    "cadena_texto = \"Soy una variable string!\" \n",
    "entero = 42 \n",
    "flotante = 3.14159 \n",
    "booleano = False "
   ]
  },
  {
   "cell_type": "markdown",
   "metadata": {},
   "source": [
    "---"
   ]
  },
  {
   "cell_type": "markdown",
   "metadata": {},
   "source": [
    "> ## Introduccion Rapida a que es una Funcion en Python"
   ]
  },
  {
   "cell_type": "markdown",
   "metadata": {},
   "source": [
    "En python tambien existen objetos llamados Funciones, recuerden, en Python todo es un objeto que pertenece a una determinada clase. Las funciones realizar una tarea especifica sobre el objeto al que le estemos aplicando dicha funcion. La sitaxis para aplicar una funcion sobre un objeto viene dada por escribir el nombre de la funcion y seguidamente el objeto al que se le quiere aplicar la funcion entre parenteses.\n",
    "\n",
    "Por ejemplo la funcion print( ) recibe un objeto y lo \"imprime\" en pantalla.\n",
    "\n",
    "Otro ejemplo es la funcion type( ) que recibe un objeto y te dice que tipo de objeto es.\n",
    "\n",
    "Al objeto que se usa para introducir dentro de la funcion se lo llama argumento. Entonces la sitaxis basica para utilizar una funcion es:\n",
    "\n",
    "<pre><code style=\"color: yellow;\"> Funcion(argumento) </code></pre>\n",
    "\n",
    "\n"
   ]
  },
  {
   "cell_type": "code",
   "execution_count": 53,
   "metadata": {},
   "outputs": [
    {
     "name": "stdout",
     "output_type": "stream",
     "text": [
      "valor de la variable\n"
     ]
    }
   ],
   "source": [
    "# si le paso una variable a print() me va imprimir el valor de la variable en pantalla\n",
    "variable_1 = \"valor de la variable 1\"\n",
    "print(variable_1)"
   ]
  },
  {
   "cell_type": "code",
   "execution_count": 54,
   "metadata": {},
   "outputs": [
    {
     "data": {
      "text/plain": [
       "str"
      ]
     },
     "execution_count": 54,
     "metadata": {},
     "output_type": "execute_result"
    }
   ],
   "source": [
    "# si en cambio le paso la misma variable a type() me va a imprimir el tipo de dato de la variable\n",
    "type(variable_1)"
   ]
  },
  {
   "cell_type": "code",
   "execution_count": 42,
   "metadata": {},
   "outputs": [
    {
     "data": {
      "text/plain": [
       "str"
      ]
     },
     "execution_count": 42,
     "metadata": {},
     "output_type": "execute_result"
    }
   ],
   "source": [
    "# Ejecutamos la funcion Type que toma como argumento la variable y cadena_texto \n",
    "type(cadena_texto)\n",
    "\n",
    "# oh casualidad, el tipo de dato de la variable cadena_texto es un string"
   ]
  },
  {
   "cell_type": "markdown",
   "metadata": {},
   "source": [
    "---"
   ]
  },
  {
   "cell_type": "markdown",
   "metadata": {},
   "source": [
    ">## Operadores aritméticos\n",
    "\n",
    "### Los operadores aritméticos permiten realizar operaciones matemáticas básicas como suma, resta, multiplicación y división.\n",
    "\n",
    "La unica diferencia es que se agregan dos tipos de division, ademas de la ya clasica division normal.\n",
    "La operacion modulo(residuo de la division) devuelve el resto de la division, y la division baja devueve la division pero en un numero entero sin decimales. No hay mucho mas que ver en esta seccion."
   ]
  },
  {
   "cell_type": "markdown",
   "metadata": {},
   "source": [
    "### TABLA Operadores Aritméticos\n",
    "\n",
    "| Operador | Descripción                  | Ejemplo         | Resultado  |\n",
    "|----------|------------------------------|-----------------|------------|\n",
    "| `+`      | Suma                         | `5 + 3`         | `8`        |\n",
    "| `-`      | Resta                        | `5 - 3`         | `2`        |\n",
    "| `*`      | Multiplicación               | `5 * 3`         | `15`       |\n",
    "| `/`      | División                     | `5 / 2`         | `2.5`      |\n",
    "| `%`      | Módulo (residuo de la división)| `5 % 2`       | `1`        |\n",
    "| `**`     | Exponenciación (potencia)    | `5 ** 2`        | `25`       |\n",
    "| `//`     | División entera              | `5 // 2`        | `2`        |"
   ]
  },
  {
   "cell_type": "code",
   "execution_count": 44,
   "metadata": {},
   "outputs": [
    {
     "name": "stdout",
     "output_type": "stream",
     "text": [
      "7\n",
      "3\n",
      "10\n",
      "2.5\n",
      "25\n",
      "1\n",
      "2\n"
     ]
    }
   ],
   "source": [
    "# Ejemplos de operaciones aritméticas\n",
    "\n",
    "# Suma \n",
    "print(5+2)\n",
    "\n",
    "# Resta \n",
    "print(5-2)\n",
    "\n",
    "# Multiplicacion\n",
    "print(5*2)\n",
    "\n",
    "# Division \n",
    "print(5/2)\n",
    "\n",
    "# Exponente\n",
    "print(5**2)\n",
    "\n",
    "# Modulo (resto de la division)\n",
    "print(5%2)\n",
    "\n",
    "# Division baja (entero de la division)\n",
    "print(5//2)\n",
    "\n"
   ]
  },
  {
   "cell_type": "markdown",
   "metadata": {},
   "source": [
    "---"
   ]
  },
  {
   "cell_type": "markdown",
   "metadata": {},
   "source": [
    ">## Operadores de comparación\n",
    "\n",
    "##### Los operadores de comparación permiten comparar dos valores. Siempre nos van a devolver un valor booleano (verdadero o falso) que indica el resultado de dicha comparacion. Es decir que el resultado de una oparion entre dos variables nos retorna un valor de tipo boolenao."
   ]
  },
  {
   "cell_type": "markdown",
   "metadata": {},
   "source": [
    "\n",
    "### TABLA Operadores de Comparación\n",
    "\n",
    "| Operador | Descripción                  | Ejemplo         | Resultado  |\n",
    "|----------|------------------------------|-----------------|------------|\n",
    "| `==`     | Igual a                      | `5 == 5`        | `True`     |\n",
    "| `!=`     | Diferente de                 | `5 != 3`        | `True`     |\n",
    "| `>`      | Mayor que                    | `5 > 3`         | `True`     |\n",
    "| `<`      | Menor que                    | `5 < 3`         | `False`    |\n",
    "| `>=`     | Mayor o igual que            | `5 >= 5`        | `True`     |\n",
    "| `<=`     | Menor o igual que            | `5 <= 3`        | `False`    |\n",
    "\n"
   ]
  },
  {
   "cell_type": "code",
   "execution_count": 57,
   "metadata": {},
   "outputs": [
    {
     "name": "stdout",
     "output_type": "stream",
     "text": [
      "True\n",
      "False\n",
      "True\n",
      "False\n",
      "True\n",
      "True\n"
     ]
    }
   ],
   "source": [
    "# Ejemplos de operadores de comparación\n",
    "\n",
    "# Igual que\n",
    "igualdad = 5 == 5 # True\n",
    "\n",
    "# Diferente de\n",
    "difenrecia = 5 != 5 # False\n",
    "\n",
    "# Mayor que\n",
    "mayor = 10 > 5 # True\n",
    "\n",
    "# Menor que\n",
    "menor = 10 < 5 # False\n",
    "\n",
    "# Mayor o igual que\n",
    "mayor_igual = 5 >= 5 # True\n",
    "\n",
    "# Menor o igual que\n",
    "menor_igual=  5 <= 5 # True\n",
    "\n",
    "\n",
    "#Ahora vamos a imprimir los resultados de las operaciones de comparación\n",
    "\n",
    "print(igualdad)\n",
    "print(difenrecia)\n",
    "print(mayor)\n",
    "print(menor)\n",
    "print(mayor_igual)\n",
    "print(menor_igual)"
   ]
  },
  {
   "cell_type": "markdown",
   "metadata": {},
   "source": [
    "---"
   ]
  },
  {
   "cell_type": "markdown",
   "metadata": {},
   "source": [
    ">## Operadores Lógicos\n",
    "\n",
    "Aunque entender cavalmente estos conceptos reqieren conocimientos de lógica proposicional básica, vamos a resumirlo de la forma mas sencilla posible.\n",
    "\n",
    "Los operadores lógicos permiten evaluar el valor de verdad de dos o más valores booleanos. Existen tres operadores lógicos básicos: la conjunción, la disyunción y la negación.\n",
    "\n",
    "1. **Conjunción (Y):** La conjunción es equivalente a usar la palabra \"y\" en lenguaje ordinario. Por ejemplo, \"alto Y delgado\". Ambos valores deben ser verdaderos para que la conjunción sea verdadera.\n",
    "\n",
    "2. **Disyunción (O):** La disyunción es similar a usar la palabra \"o\". Por ejemplo, \"alto O delgado\". Basta con que uno de los valores sea verdadero para que la disyunción sea verdadera.\n",
    "\n",
    "3. **Negación (NO):** La negación es equivalente a usar la palabra \"no\". Este operador invierte el valor de verdad de un solo valor. Por ejemplo, si tenemos \"alto\", la negación sería \"no alto\".\n",
    "\n",
    "Para entender mejor estos conceptos, utilizamos las tablas de verdad. Estas tablas muestran todos los posibles valores que pueden tomar dos variables booleanas al aplicarles estos operadores lógicos.\n",
    "\n",
    "### Tablas de Verdad\n",
    "\n",
    "- **Conjunción (Y)**\n",
    "\n",
    "| A     | B     | A Y B |\n",
    "|-------|-------|-------|\n",
    "| V     | V     | V     |\n",
    "| V     | F     | F     |\n",
    "| F     | V     | F     |\n",
    "| F     | F     | F     |\n",
    "\n",
    "- **Disyunción (O)**\n",
    "\n",
    "| A     | B     | A O B |\n",
    "|-------|-------|-------|\n",
    "| V     | V     | V     |\n",
    "| V     | F     | V     |\n",
    "| F     | V     | V     |\n",
    "| F     | F     | F     |\n",
    "\n",
    "- **Negación (NO)**\n",
    "\n",
    "| A     | NO A  |\n",
    "|-------|-------|\n",
    "| V     | F     |\n",
    "| F     | V     |\n"
   ]
  },
  {
   "cell_type": "code",
   "execution_count": 59,
   "metadata": {},
   "outputs": [
    {
     "name": "stdout",
     "output_type": "stream",
     "text": [
      "Conjunción (alto y delgado): False\n",
      "Disyunción (alto o delgado): True\n",
      "Negación (no alto): False\n"
     ]
    }
   ],
   "source": [
    "# Declaramos las variables con valores booleanos\n",
    "alto = True\n",
    "delgado = False\n",
    "\n",
    "# Ahora vamos a usar operadores lógicos sobre dichas variables\n",
    "condicion_1 = alto and delgado  # Conjunción: True y False es False\n",
    "condicion_2 = alto or delgado   # Disyunción: True o False es True\n",
    "no = not alto        # Negación: No True es equivalente a False\n",
    "\n",
    "# Imprimimos los resultados\n",
    "print(f\"Conjunción (alto y delgado): {condicion_1}\")\n",
    "print(f\"Disyunción (alto o delgado): {condicion_2}\")\n",
    "print(f\"Negación (no alto): {no}\")\n"
   ]
  },
  {
   "cell_type": "markdown",
   "metadata": {},
   "source": [
    ">## Entrada de datos, input( )\n",
    "\n",
    " La función input( ) permite pedirle al usuario que ingrese un dato y que esta entrada de informacion se guarde en una variable. Como es una funcion preparada para recibir informacion del usuario permite que introduscamos en la funcion texto en formato tipo string para indicarle al usuario el dato requerido."
   ]
  },
  {
   "cell_type": "code",
   "execution_count": 63,
   "metadata": {},
   "outputs": [],
   "source": [
    "# Ejemplo de entrada de datos por teclado (input)\n",
    "nombre = input(\"Ingrese su nombre \")\n",
    "edad = input(\"Ingrese su edad \")"
   ]
  },
  {
   "cell_type": "markdown",
   "metadata": {},
   "source": [
    "Podemos imprimir la entrada del usuario en pantalla utilizando la funcion print.\n",
    "\n",
    "Hay varias formas de imprimir en pantalla texto junto con valores de variables"
   ]
  },
  {
   "cell_type": "code",
   "execution_count": 65,
   "metadata": {},
   "outputs": [
    {
     "name": "stdout",
     "output_type": "stream",
     "text": [
      "Tu nombre es sebastian y tu edad es 24 años\n",
      "Tu nombre es sebastian y tu edad es 24 años\n"
     ]
    }
   ],
   "source": [
    "print(\"Tu nombre es \" + nombre + \" y tu edad es \" + edad + \" años\")\n",
    "\n",
    "print(f\"Tu nombre es {nombre} y tu edad es {edad} años\")"
   ]
  }
 ],
 "metadata": {
  "kernelspec": {
   "display_name": "Python 3",
   "language": "python",
   "name": "python3"
  },
  "language_info": {
   "codemirror_mode": {
    "name": "ipython",
    "version": 3
   },
   "file_extension": ".py",
   "mimetype": "text/x-python",
   "name": "python",
   "nbconvert_exporter": "python",
   "pygments_lexer": "ipython3",
   "version": "3.11.9"
  }
 },
 "nbformat": 4,
 "nbformat_minor": 2
}
